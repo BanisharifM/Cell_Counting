{
 "cells": [
  {
   "cell_type": "code",
   "execution_count": 1,
   "id": "7a84e8f1-ff1a-42b7-aedf-5e151c2e13be",
   "metadata": {
    "tags": []
   },
   "outputs": [],
   "source": [
    "# raw_main.py\n",
    "\n",
    "Best Epoch:\n",
    "Epoch 5: Val Loss = 128.9370, Val MAE = 151.1816, Val RMSE = 192.7135, Val Percentage Accuracy = 31.51%\n",
    "Training complete. Model saved to 'Raw_Result/cell_counter.pth'"
   ]
  },
  {
   "cell_type": "code",
   "execution_count": null,
   "id": "6afbd0e0-bba0-454c-a959-b80b38f3ae4e",
   "metadata": {},
   "outputs": [],
   "source": []
  }
 ],
 "metadata": {
  "kernelspec": {
   "display_name": "Python 3 (ipykernel)",
   "language": "python",
   "name": "python3"
  },
  "language_info": {
   "codemirror_mode": {
    "name": "ipython",
    "version": 3
   },
   "file_extension": ".py",
   "mimetype": "text/x-python",
   "name": "python",
   "nbconvert_exporter": "python",
   "pygments_lexer": "ipython3",
   "version": "3.9.18"
  }
 },
 "nbformat": 4,
 "nbformat_minor": 5
}
