{
 "cells": [
  {
   "cell_type": "code",
   "execution_count": null,
   "id": "dd6d7fa7-b56c-4d7b-a89d-4eca5479b882",
   "metadata": {},
   "outputs": [],
   "source": []
  },
  {
   "cell_type": "code",
   "execution_count": null,
   "id": "d187ba67-5714-446a-b04e-ce025f8134cd",
   "metadata": {},
   "outputs": [],
   "source": [
    "Trial status: 15 TERMINATED\n",
    "Current time: 2024-12-13 14:08:19. Total running time: 9min 25s\n",
    "Logical resource usage: 4.0/64 CPUs, 1.0/1 GPUs (0.0/1.0 accelerator_type:A100)\n",
    "╭─────────────────────────────────────────────────────────────────────────────────────────────────────────────────────────────────────────────────────╮\n",
    "│ Trial name                     status         batch_size     learning_rate     weight_decay     iter     total time (s)     val_loss     train_loss │\n",
    "├─────────────────────────────────────────────────────────────────────────────────────────────────────────────────────────────────────────────────────┤\n",
    "│ train_tune_model_adf96_00000   TERMINATED             16       0.000966212      8.37293e-05       10            37.758       16.1833        25.5665 │\n",
    "│ train_tune_model_adf96_00001   TERMINATED             32       0.000366437      3.61933e-06       10            32.7665      20.7502        31.8291 │\n",
    "│ train_tune_model_adf96_00002   TERMINATED             16       0.000551269      3.75908e-06       10            31.7241      20.9955        25.0239 │\n",
    "│ train_tune_model_adf96_00003   TERMINATED             32       0.000655065      6.17652e-05       10            32.649       20.2184        24.1943 │\n",
    "│ train_tune_model_adf96_00004   TERMINATED             64       0.000798564      1.96038e-05       10            34.4107      23.2062        24.3903 │\n",
    "│ train_tune_model_adf96_00005   TERMINATED             64       0.000335909      5.4057e-05        10            34.7701      26.1437        38.1197 │\n",
    "│ train_tune_model_adf96_00006   TERMINATED             16       0.00056795       2.00283e-05       10            31.4198      30.6901        25.665  │\n",
    "│ train_tune_model_adf96_00007   TERMINATED             64       0.000157933      9.41728e-06       10            33.8001     125.53         135.082  │\n",
    "│ train_tune_model_adf96_00008   TERMINATED             16       0.000755371      1.68241e-06       10            31.2647      16.177         25.5377 │\n",
    "│ train_tune_model_adf96_00009   TERMINATED             64       0.000870907      2.73022e-05       10            34.5711      17.0274        22.7478 │\n",
    "│ train_tune_model_adf96_00010   TERMINATED             64       0.000158508      5.08358e-05       10            34.5717     125.037        135.781  │\n",
    "│ train_tune_model_adf96_00011   TERMINATED             16       0.000112709      7.95322e-06       10            31.573       19.6161        37.5522 │\n",
    "│ train_tune_model_adf96_00012   TERMINATED             64       0.000539774      4.59095e-05       10            34.735       21.4233        33.5033 │\n",
    "│ train_tune_model_adf96_00013   TERMINATED             16       0.000103495      4.53813e-06       10            31.9493      23.9048        41.1221 │\n",
    "│ train_tune_model_adf96_00014   TERMINATED             16       0.000131639      6.86463e-06       10            31.4814      20.7439        35.092  │\n",
    "╰─────────────────────────────────────────────────────────────────────────────────────────────────────────────────────────────────────────────────────╯"
   ]
  }
 ],
 "metadata": {
  "kernelspec": {
   "display_name": "Python 3 (ipykernel)",
   "language": "python",
   "name": "python3"
  },
  "language_info": {
   "codemirror_mode": {
    "name": "ipython",
    "version": 3
   },
   "file_extension": ".py",
   "mimetype": "text/x-python",
   "name": "python",
   "nbconvert_exporter": "python",
   "pygments_lexer": "ipython3",
   "version": "3.9.18"
  }
 },
 "nbformat": 4,
 "nbformat_minor": 5
}
